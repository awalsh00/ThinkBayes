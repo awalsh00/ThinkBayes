{
 "cells": [
  {
   "cell_type": "markdown",
   "metadata": {},
   "source": [
    "# Exercises"
   ]
  },
  {
   "cell_type": "markdown",
   "metadata": {},
   "source": [
    "## Exercise 2.1\n",
    "In Section 2.3 I said that the solution to the cookie problem generalizes to the case where we draw multiple cookies with replacement. But in the more likely scenario where we eat the cookies we draw, the likelihood of each draw depends on the previous draws.\n",
    "\n",
    "**Modify the solution in this chapter to handle selection without replacement.**\n",
    "\n",
    "### Hints\n",
    "\n",
    "* _Add instance variables to Cookie to represent the hypothetical state of the bowls, and modify Likelihood accordingly._\n",
    "* _You might want to define a Bowl object._"
   ]
  },
  {
   "cell_type": "code",
   "execution_count": 1,
   "metadata": {},
   "outputs": [],
   "source": [
    "from __future__ import division\n",
    "import numpy as np\n",
    "import thinkbayes\n",
    "from thinkbayes import Suite, Hist\n",
    "from cookie2 import Cookie\n",
    "from collections import Counter"
   ]
  },
  {
   "cell_type": "code",
   "execution_count": 46,
   "metadata": {},
   "outputs": [],
   "source": [
    "class CookieBowl():\n",
    "    \n",
    "    def __init__(self,cookies={'vanilla':30,'chocolate':10}):\n",
    "        if cookies:\n",
    "            self.bowl = Counter(cookies)\n",
    "\n",
    "\n",
    "    def EatCookies(self, cookies):\n",
    "        print self.bowl.values(),type(cookies)\n",
    "        self.bowl.subtract(cookies)\n",
    "\n",
    "    def Count(self,cookie=None):\n",
    "        if cookie:\n",
    "            return self.bowl[cookie]\n",
    "        else:\n",
    "            return sum(self.bowl.values())\n",
    "\n",
    "\n",
    "    def Cookies(self):\n",
    "        return self.bowl.keys()\n",
    "\n",
    "\n",
    "    def Prob(self,cookie):\n",
    "        return self[cookie]\n",
    "\n",
    "\n",
    "    def __getitem__(self,cookie):\n",
    "        return self.bowl[cookie]/self.Count()"
   ]
  },
  {
   "cell_type": "code",
   "execution_count": 89,
   "metadata": {},
   "outputs": [],
   "source": [
    "class EatingCookies(Cookie):\n",
    "    ''' New class that extends Cookie to assume cookies are eaten after being drawn (i.e. draw w/o replacement)'''\n",
    "    def __init__(self, hypos):\n",
    "        \"\"\"Initialize self.\n",
    "\n",
    "\n",
    "        hypos: sequence of string bowl IDs\n",
    "        \"\"\"\n",
    "        Cookie.__init__(self,hypos)\n",
    "        Cookie.mixes = {\n",
    "            'Bowl 1':CookieBowl(dict(vanilla=30, chocolate=10)),\n",
    "            'Bowl 2':CookieBowl(dict(vanilla=20, chocolate=20))\n",
    "        }\n",
    "\n",
    "\n",
    "    def Update(self, cookie):\n",
    "        Cookie.Update(self,cookie)\n",
    "        for b in self.mixes.values():\n",
    "           b.EatCookies([cookie])"
   ]
  },
  {
   "cell_type": "code",
   "execution_count": 98,
   "metadata": {},
   "outputs": [],
   "source": [
    "hypos = ['Bowl 1', 'Bowl 2']\n",
    "\n",
    "pmf = EatingCookies(hypos)"
   ]
  },
  {
   "cell_type": "code",
   "execution_count": 103,
   "metadata": {},
   "outputs": [
    {
     "name": "stdout",
     "output_type": "stream",
     "text": [
      "Bowl 1 0.5\n",
      "Bowl 2 0.5\n"
     ]
    }
   ],
   "source": [
    "pmf.Print()"
   ]
  },
  {
   "cell_type": "code",
   "execution_count": 95,
   "metadata": {},
   "outputs": [
    {
     "name": "stdout",
     "output_type": "stream",
     "text": [
      "[20, 20] <type 'list'>\n",
      "[30, 10] <type 'list'>\n",
      "Bowl 1 0.6\n",
      "Bowl 2 0.4\n",
      "29 10\n",
      "19 20\n"
     ]
    }
   ],
   "source": [
    "pmf.Update('vanilla')\n",
    "pmf.Print()\n",
    "print pmf.mixes['Bowl 1'].Count('vanilla'), pmf.mixes['Bowl 1'].Count('chocolate')\n",
    "print pmf.mixes['Bowl 2'].Count('vanilla'), pmf.mixes['Bowl 2'].Count('chocolate')"
   ]
  },
  {
   "cell_type": "code",
   "execution_count": 96,
   "metadata": {},
   "outputs": [
    {
     "name": "stdout",
     "output_type": "stream",
     "text": [
      "[19, 20] <type 'list'>\n",
      "[29, 10] <type 'list'>\n",
      "Bowl 1 0.428571428571\n",
      "Bowl 2 0.571428571429\n",
      "29 9\n",
      "19 19\n"
     ]
    }
   ],
   "source": [
    "pmf.Update('chocolate')\n",
    "pmf.Print()\n",
    "print pmf.mixes['Bowl 1'].Count('vanilla'), pmf.mixes['Bowl 1'].Count('chocolate')\n",
    "print pmf.mixes['Bowl 2'].Count('vanilla'), pmf.mixes['Bowl 2'].Count('chocolate')"
   ]
  },
  {
   "cell_type": "code",
   "execution_count": 97,
   "metadata": {},
   "outputs": [
    {
     "name": "stdout",
     "output_type": "stream",
     "text": [
      "[19, 19] <type 'list'>\n",
      "[29, 9] <type 'list'>\n",
      "Bowl 1 0.26213592233\n",
      "Bowl 2 0.73786407767\n",
      "29 8\n",
      "19 18\n",
      "\n",
      "[19, 18] <type 'list'>\n",
      "[29, 8] <type 'list'>\n",
      "Bowl 1 0.136363636364\n",
      "Bowl 2 0.863636363636\n",
      "29 7\n",
      "19 17\n",
      "\n",
      "[19, 17] <type 'list'>\n",
      "[29, 7] <type 'list'>\n",
      "Bowl 1 0.0610465116279\n",
      "Bowl 2 0.938953488372\n",
      "29 6\n",
      "19 16\n",
      "\n",
      "[19, 16] <type 'list'>\n",
      "[29, 6] <type 'list'>\n",
      "Bowl 1 0.0238005289006\n",
      "Bowl 2 0.976199471099\n",
      "29 5\n",
      "19 15\n",
      "\n",
      "[19, 15] <type 'list'>\n",
      "[29, 5] <type 'list'>\n",
      "Bowl 1 0.00806142034549\n",
      "Bowl 2 0.991938579655\n",
      "29 4\n",
      "19 14\n",
      "\n",
      "[19, 14] <type 'list'>\n",
      "[29, 4] <type 'list'>\n",
      "Bowl 1 0.0023166023166\n",
      "Bowl 2 0.997683397683\n",
      "29 3\n",
      "19 13\n",
      "\n",
      "[19, 13] <type 'list'>\n",
      "[29, 3] <type 'list'>\n",
      "Bowl 1 0.000535554894377\n",
      "Bowl 2 0.999464445106\n",
      "29 2\n",
      "19 12\n",
      "\n",
      "[19, 12] <type 'list'>\n",
      "[29, 2] <type 'list'>\n",
      "Bowl 1 8.92990028278e-05\n",
      "Bowl 2 0.999910700997\n",
      "29 1\n",
      "19 11\n",
      "\n",
      "[19, 11] <type 'list'>\n",
      "[29, 1] <type 'list'>\n",
      "Bowl 1 8.11875025371e-06\n",
      "Bowl 2 0.99999188125\n",
      "29 0\n",
      "19 10\n",
      "\n",
      "[19, 10] <type 'list'>\n",
      "[29, 0] <type 'list'>\n",
      "Bowl 1 0.0\n",
      "Bowl 2 1.0\n",
      "29 -1\n",
      "19 9\n",
      "\n"
     ]
    }
   ],
   "source": [
    "for i in range(10):\n",
    "    pmf.Update('chocolate')\n",
    "    pmf.Print()\n",
    "    print pmf.mixes['Bowl 1'].Count('vanilla'), pmf.mixes['Bowl 1'].Count('chocolate')\n",
    "    print pmf.mixes['Bowl 2'].Count('vanilla'), pmf.mixes['Bowl 2'].Count('chocolate')\n",
    "    print"
   ]
  }
 ],
 "metadata": {
  "kernelspec": {
   "display_name": "Python 2",
   "language": "python",
   "name": "python2"
  },
  "language_info": {
   "codemirror_mode": {
    "name": "ipython",
    "version": 2
   },
   "file_extension": ".py",
   "mimetype": "text/x-python",
   "name": "python",
   "nbconvert_exporter": "python",
   "pygments_lexer": "ipython2",
   "version": "2.7.15"
  }
 },
 "nbformat": 4,
 "nbformat_minor": 2
}
